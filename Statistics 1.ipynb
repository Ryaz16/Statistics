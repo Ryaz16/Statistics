{
 "cells": [
  {
   "cell_type": "markdown",
   "metadata": {},
   "source": [
    "Q1. What is Statistics?\n",
    "\n",
    "Statistics is a science of collecting,optimizing,and analyzed the data."
   ]
  },
  {
   "cell_type": "markdown",
   "metadata": {},
   "source": [
    "Q2. Define the different types of statistics and give an example of when each type might be used.\n",
    "\n",
    "Descriptive  &  Inferential Statistics\n",
    "\n",
    "Descriptive stats: It is use to summarise the data set\n",
    "\n",
    "Inferential stats: Its used to make a inference about a polution based on asample"
   ]
  },
  {
   "cell_type": "markdown",
   "metadata": {},
   "source": [
    "Q3. What are the different types of data and how do they differ from each other? Provide an example of\n",
    "each type of data.\n",
    "\n",
    "Data: Quantitative   &   Qualitative \n",
    "\n",
    "Quantitative are numerical data\n",
    "e.g : 1,2,3   0.2,0.22\n",
    "\n",
    "Qualitative  are categorical data\n",
    "e.g:  true/false , yes/no , "
   ]
  },
  {
   "cell_type": "markdown",
   "metadata": {},
   "source": [
    "Q4. Categorise the following datasets with respect to quantitative and qualitative data types:\n",
    "\n",
    "(i) Grading in exam: A+, A, B+, B, C+, C, D, \n",
    "\n",
    "ans:Qualitative data\n",
    "\n",
    "(ii) Colour of mangoes: yellow, green, orange, red\n",
    "\n",
    "ans:Qualitative data\n",
    "\n",
    "(iii) Height data of a class: [178.9, 179, 179.5, 176, 177.2, 178.3, 175.8,...]\n",
    "\n",
    "ans:Quantitative data\n",
    "\n",
    "(iv) Number of mangoes exported by a farm: [500, 600, 478, 672, ...]\n",
    "\n",
    "ans:Quatitative data"
   ]
  },
  {
   "cell_type": "markdown",
   "metadata": {},
   "source": [
    "Q5. Explain the concept of levels of measurement and give an example of a variable for each level.\n",
    "\n",
    "In Statistics the concept of level of measurement of a variable,four types of level \n",
    "\n",
    "#nominal: In nominal data they cannot ranked any variable/data\n",
    "\n",
    "e.g: yes/no\n",
    "\n",
    "#ordinal: In ordinal they ranked wise data\n",
    "\n",
    "e.g: Grade  system\n",
    "\n",
    "#Interval\n",
    "\n",
    "#ratio"
   ]
  },
  {
   "cell_type": "markdown",
   "metadata": {},
   "source": [
    "Q7. How nominal data type is different from ordinal data type.\n",
    "\n",
    "nominal: In nominal data they cannot ranked any variable/data\n",
    "\n",
    "ordinal: In ordinal they ranked wise data"
   ]
  },
  {
   "cell_type": "markdown",
   "metadata": {},
   "source": [
    "Q8. Which type of plot can be used to display data in terms of range?\n",
    "\n",
    "Boxplot"
   ]
  },
  {
   "cell_type": "markdown",
   "metadata": {},
   "source": [
    "Q9. Describe the difference between descriptive and inferential statistics. Give an example of each\n",
    "type of statistics and explain how they are used\n",
    "\n",
    "Thee are two types of statistics first is descriptive statistics and Inferential statistics ,so in hese types of statics we have to observed collecting ,optimizing and analyzed the data.Descriptive stats: It is use to summarise the data set. Inferential stats: Its used to make a inference about a polution based on asample"
   ]
  },
  {
   "cell_type": "markdown",
   "metadata": {},
   "source": [
    "Q10. What are some common measures of central tendency and variability used in statistics? Explain\n",
    "how each measure can be used to describe a dataset.\n",
    "\n",
    "\n",
    "Mean: find the Average of the data\n",
    "\n",
    "Meadian:Middle value of data\n",
    "\n",
    "Mode: Repeated value of data"
   ]
  }
 ],
 "metadata": {
  "kernelspec": {
   "display_name": "Python 3",
   "language": "python",
   "name": "python3"
  },
  "language_info": {
   "name": "python",
   "version": "3.11.3"
  },
  "orig_nbformat": 4
 },
 "nbformat": 4,
 "nbformat_minor": 2
}
